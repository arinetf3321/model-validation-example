#To perform bias performance analysis of the Aqueous Kinetic Solubility (AKS) machine learning model using Jupyter Notebook, #you can follow these steps:

#Load and Prepare the Dataset:
#Load the AKS dataset, ensuring it includes features, the target variable (AKS), and a sensitive attribute (e.g., gender, #ethnicity).
#
#Train a Machine Learning Model:
#Train your AKS prediction model using a suitable machine learning algorithm. For simplicity, let's assume you're using a #RandomForestRegressor.

#Evaluate Model Performance:
#Evaluate the model's performance on the test set using appropriate metrics (e.g., R-squared for regression).

#Perform Bias Analysis:
#Use fairlearn's metrics to calculate bias metrics such as demographic parity ratio and equalized odds ratio.

#Visualize Bias Analysis:
#Visualize the bias analysis results to understand disparities in model performance across different subgroups.

#Here's an example of how you can do this in a Jupyter Notebook:


import pandas as pd
from sklearn.model_selection import train_test_split
from sklearn.ensemble import RandomForestRegressor
from sklearn.metrics import r2_score
from fairlearn.metrics import demographic_parity_ratio, equalized_odds_ratio

# Load the AKS dataset
data = pd.read_csv('aks_dataset.csv')

# Define features, target variable, and sensitive attribute
X = data.drop(['AKS', 'sensitive_attribute'], axis=1)
y = data['AKS']
sensitive_attribute = data['sensitive_attribute']

# Split the dataset into training and test sets
X_train, X_test, y_train, y_test, sa_train, sa_test = train_test_split(X, y, sensitive_attribute, test_size=0.2, random_state=42)

# Train a RandomForestRegressor model
model = RandomForestRegressor()
model.fit(X_train, y_train)

# Evaluate the model
y_pred = model.predict(X_test)
r2 = r2_score(y_test, y_pred)
print(f'R-squared: {r2}')

# Perform bias analysis
dp_ratio = demographic_parity_ratio(y_test, y_pred, sensitive_features=sa_test)
eod_ratio = equalized_odds_ratio(y_test, y_pred, sensitive_features=sa_test)
print(f"Demographic parity ratio: {dp_ratio}")
print(f"Equalized odds ratio: {eod_ratio}")

# Visualize bias analysis results
# You can use plots or charts to visualize the disparities in model performance















#Here's an example using box plots to visualize the distribution of model performance (R-squared) across different subgroups #based on a sensitive attribute: using Box Plots: Box plots can show the distribution of performance metrics for each #subgroup, allowing you to compare the median, quartiles, and outliers.


import matplotlib.pyplot as plt
import seaborn as sns

# Assuming you have calculated R-squared values for each subgroup
subgroups = ['Subgroup A', 'Subgroup B', 'Subgroup C']
r_squared_values = [0.75, 0.80, 0.70]

plt.figure(figsize=(10, 6))
sns.boxplot(x=subgroups, y=r_squared_values)
plt.xlabel('Sensitive Attribute Subgroups')
plt.ylabel('R-squared')
plt.title('Distribution of R-squared Across Subgroups')
plt.show()


====
#To visualize bias analysis results of the model in Jupyter Notebook, you can use various plotting libraries such as #matplotlib or seaborn. Here's an example of how you can visualize the demographic parity ratio and equalized odds ratio #using matplotlib: how to Visualize bias analysis results of the model in jupyter notebook
import matplotlib.pyplot as plt

# Assuming dp_ratio and eod_ratio are calculated as in the previous example

# Plotting demographic parity ratio
plt.figure(figsize=(8, 6))
plt.bar(['Demographic Parity Ratio'], [dp_ratio], color='skyblue')
plt.ylabel('Ratio')
plt.title('Demographic Parity Ratio')
plt.ylim(0, 1)  # Assuming the ratio is between 0 and 1
plt.show()

# Plotting equalized odds ratio
plt.figure(figsize=(8, 6))
plt.bar(['Equalized Odds Ratio'], [eod_ratio], color='salmon')
plt.ylabel('Ratio')
plt.title('Equalized Odds Ratio')
plt.ylim(0, 1)  # Assuming the ratio is between 0 and 1
plt.show()



=====
###how to do bias performance analysis of a model in jupyter
#Bias performance analysis of a model involves evaluating the model's performance across different subgroups of the dataset #based on sensitive attributes (e.g., race, gender) to identify any disparities in performance. Here's a basic example of #how you can perform bias performance analysis in Jupyter Notebook using Python:

#Import Necessary Libraries:

===
===
youtube
dataset = pd.read_csv("input.csv")
dataset.head()
dataset.tail()


df = pd.read_csv('input.csv')
df.head()
len(df)
from sklearn.model_selection import train_test_split
train_test_split
train_test_split(df.drop('smiles', axis=1))
train_test_split(df.drop(''))
