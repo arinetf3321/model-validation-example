

from rdkit import Chem
from rdkit.Chem import Descriptors
import pandas as pd

# Read the CSV file
df = pd.read_csv('input3.csv')

# Generate RDKit molecules
molecules = [Chem.MolFromSmiles(smiles) for smiles in df['standardized_smiles'] if Chem.MolFromSmiles(smiles) is not None]

# Calculate molecular descriptors
num_atoms = [Descriptors.HeavyAtomCount(mol) for mol in molecules]
mol_weights = [Descriptors.MolWt(mol) for mol in molecules]

# Analyze descriptors (e.g., compare distributions, identify outliers)
# Example: calculate mean and standard deviation of number of atoms
mean_num_atoms = np.mean(num_atoms)
std_num_atoms = np.std(num_atoms)

# Print or visualize the results
print("Mean number of atoms:", mean_num_atoms)
print("Standard deviation of number of atoms:", std_num_atoms)
Mean number of atoms: 28.172
Standard deviation of number of atoms: 8.234586571285774


