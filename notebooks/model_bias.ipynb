{
 "cells": [
  {
   "cell_type": "code",
   "execution_count": 2,
   "id": "c04ff328-32d5-4f5b-99c0-2e15d316b43c",
   "metadata": {},
   "outputs": [
    {
     "name": "stdout",
     "output_type": "stream",
     "text": [
      "Mean number of atoms: 28.172\n",
      "Standard deviation of number of atoms: 8.234586571285774\n"
     ]
    }
   ],
   "source": [
    "from rdkit import Chem\n",
    "from rdkit.Chem import Descriptors\n",
    "import pandas as pd\n",
    "import numpy as np\n",
    "# Read the CSV file\n",
    "df = pd.read_csv('input3.csv')\n",
    "\n",
    "# Generate RDKit molecules\n",
    "molecules = [Chem.MolFromSmiles(smiles) for smiles in df['standardized_smiles'] if Chem.MolFromSmiles(smiles) is not None]\n",
    "\n",
    "# Calculate molecular descriptors\n",
    "num_atoms = [Descriptors.HeavyAtomCount(mol) for mol in molecules]\n",
    "mol_weights = [Descriptors.MolWt(mol) for mol in molecules]\n",
    "\n",
    "# Analyze descriptors (e.g., compare distributions, identify outliers)\n",
    "# Example: calculate mean and standard deviation of number of atoms\n",
    "mean_num_atoms = np.mean(num_atoms)\n",
    "std_num_atoms = np.std(num_atoms)\n",
    "\n",
    "# Print or visualize the results\n",
    "print(\"Mean number of atoms:\", mean_num_atoms)\n",
    "print(\"Standard deviation of number of atoms:\", std_num_atoms)"
   ]
  },
  {
   "cell_type": "code",
   "execution_count": null,
   "id": "3b533baa-10be-41ba-8ddd-dc2abeca58d5",
   "metadata": {},
   "outputs": [],
   "source": []
  }
 ],
 "metadata": {
  "kernelspec": {
   "display_name": "my-rdkit-env",
   "language": "python",
   "name": "my-rdkit-env"
  },
  "language_info": {
   "codemirror_mode": {
    "name": "ipython",
    "version": 3
   },
   "file_extension": ".py",
   "mimetype": "text/x-python",
   "name": "python",
   "nbconvert_exporter": "python",
   "pygments_lexer": "ipython3",
   "version": "3.10.14"
  }
 },
 "nbformat": 4,
 "nbformat_minor": 5
}
