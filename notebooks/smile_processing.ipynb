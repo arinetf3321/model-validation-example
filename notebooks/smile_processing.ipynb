{
 "cells": [
  {
   "cell_type": "code",
   "execution_count": 1,
   "id": "c04ff328-32d5-4f5b-99c0-2e15d316b43c",
   "metadata": {},
   "outputs": [],
   "source": [
    "from rdkit import Chem\n",
    "import pandas as pd\n",
    "\n",
    "# Function to standardize SMILES\n",
    "def standardize_smiles(smiles):\n",
    "    mol = Chem.MolFromSmiles(smiles)\n",
    "    if mol is not None:\n",
    "        return Chem.MolToSmiles(mol, isomericSmiles=False)\n",
    "    else:\n",
    "        return None\n",
    "\n",
    "# Read CSV file\n",
    "df = pd.read_csv('input.csv')\n",
    "\n",
    "# Standardize SMILES\n",
    "df['standardized_smiles'] = df['smiles'].apply(standardize_smiles)\n",
    "\n",
    "# Save to new CSV file\n",
    "df.to_csv('output22.csv', index=False)"
   ]
  },
  {
   "cell_type": "code",
   "execution_count": null,
   "id": "3b533baa-10be-41ba-8ddd-dc2abeca58d5",
   "metadata": {},
   "outputs": [],
   "source": []
  }
 ],
 "metadata": {
  "kernelspec": {
   "display_name": "my-rdkit-env",
   "language": "python",
   "name": "my-rdkit-env"
  },
  "language_info": {
   "codemirror_mode": {
    "name": "ipython",
    "version": 3
   },
   "file_extension": ".py",
   "mimetype": "text/x-python",
   "name": "python",
   "nbconvert_exporter": "python",
   "pygments_lexer": "ipython3",
   "version": "3.10.14"
  }
 },
 "nbformat": 4,
 "nbformat_minor": 5
}
