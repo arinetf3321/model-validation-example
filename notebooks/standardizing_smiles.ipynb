from rdkit import Chem
import pandas as pd

# Function to standardize SMILES
def standardize_smiles(smiles):
    mol = Chem.MolFromSmiles(smiles)
    if mol is not None:
        return Chem.MolToSmiles(mol, isomericSmiles=False)
    else:
        return None

# Read CSV file
df = pd.read_csv('input.csv')

# Standardize SMILES
df['standardized_smiles'] = df['smiles'].apply(standardize_smiles)

# Save to new CSV file
df.to_csv('output2.csv', index=False)




