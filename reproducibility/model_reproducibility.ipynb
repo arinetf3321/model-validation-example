{
 "cells": [
  {
   "cell_type": "code",
   "execution_count": 1,
   "id": "c04ff328-32d5-4f5b-99c0-2e15d316b43c",
   "metadata": {},
   "outputs": [],
   "source": [
    "from rdkit import Chem\n",
    "from rdkit.Chem import Descriptors\n",
    "import pandas as pd\n",
    "import numpy as np\n",
    "# Read the CSV file\n",
    "df = pd.read_csv('input3.csv')\n",
    "\n",
    "# obtain RDKit molecules\n",
    "molecules = [Chem.MolFromSmiles(smiles) for smiles in df['standardized_smiles'] if Chem.MolFromSmiles(smiles) is not None]\n",
    "\n",
    "# Calculate molecular weights\n",
    "mol_weights = [Descriptors.MolWt(mol) for mol in molecules]\n",
    "\n",
    "# Calculate mean and standard deviation of molecular weights\n",
    "mean_mol_weight = np.mean(mol_weights)\n",
    "std_mol_weight = np.std(mol_weights)\n",
    "\n",
    "print(\"Mean molecular weight:\", mean_mol_weight)\n",
    "print(\"Standard deviation of molecular weight:\", std_mol_weight)"
   ]
  },
  {
   "cell_type": "code",
   "execution_count": null,
   "id": "3b533baa-10be-41ba-8ddd-dc2abeca58d5",
   "metadata": {},
   "outputs": [],
   "source": []
  }
 ],
 "metadata": {
  "kernelspec": {
   "display_name": "my-rdkit-env",
   "language": "python",
   "name": "my-rdkit-env"
  },
  "language_info": {
   "codemirror_mode": {
    "name": "ipython",
    "version": 3
   },
   "file_extension": ".py",
   "mimetype": "text/x-python",
   "name": "python",
   "nbconvert_exporter": "python",
   "pygments_lexer": "ipython3",
   "version": "3.10.14"
  }
 },
 "nbformat": 4,
 "nbformat_minor": 5
}
