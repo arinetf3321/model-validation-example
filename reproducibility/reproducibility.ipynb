


from rdkit import Chem
from rdkit.Chem import Descriptors
import pandas as pd

# Read the CSV file
df = pd.read_csv('input3.csv')

# obtain RDKit molecules
molecules = [Chem.MolFromSmiles(smiles) for smiles in df['standardized_smiles'] if Chem.MolFromSmiles(smiles) is not None]

# Calculate molecular weights
mol_weights = [Descriptors.MolWt(mol) for mol in molecules]

# Calculate mean and standard deviation of molecular weights
mean_mol_weight = np.mean(mol_weights)
std_mol_weight = np.std(mol_weights)

print("Mean molecular weight:", mean_mol_weight)
print("Standard deviation of molecular weight:", std_mol_weight)

Mean molecular weight: 403.3667560000001
Standard deviation of molecular weight: 117.6459862414969
