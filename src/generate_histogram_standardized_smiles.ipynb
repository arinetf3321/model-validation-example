from rdkit import Chem
import pandas as pd
import matplotlib.pyplot as plt

# Read the input CSV file
df = pd.read_csv('input3.csv')

# Generate RDKit molecules from the SMILES strings
molecules = [Chem.MolFromSmiles(smiles) for smiles in df['standardized_smiles'] if Chem.MolFromSmiles(smiles) is not None]

# Calculate the number of atoms in each molecule
num_atoms = [mol.GetNumAtoms() for mol in molecules]

# Plot the histogram
plt.hist(num_atoms, bins=20, color='skyblue', edgecolor='black')
plt.xlabel('Number of Atoms')
plt.ylabel('Frequency')
plt.title('Histogram of Standardized SMILES')
plt.show()
