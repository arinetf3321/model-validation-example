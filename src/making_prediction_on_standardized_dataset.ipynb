{
 "cells": [
  {
   "cell_type": "code",
   "execution_count": 1,
   "id": "c04ff328-32d5-4f5b-99c0-2e15d316b43c",
   "metadata": {},
   "outputs": [],
   "source": [
    "from rdkit import Chem\n",
    "import pandas as pd\n",
    "\n",
    "# Load your model or function for making predictions\n",
    "def predict_function(smiles):\n",
    "    # Example function, replace with your own\n",
    "    return len(smiles)\n",
    "\n",
    "# Read the input CSV file\n",
    "df = pd.read_csv('input3.csv')\n",
    "\n",
    "# Apply the predict function to each row\n",
    "df['prediction'] = df['standardized_smiles'].apply(predict_function)\n",
    "\n",
    "# Save the predictions to a new CSV file\n",
    "df.to_csv('prediction_output33.csv', index=False)"
   ]
  },
  {
   "cell_type": "code",
   "execution_count": null,
   "id": "3b533baa-10be-41ba-8ddd-dc2abeca58d5",
   "metadata": {},
   "outputs": [],
   "source": []
  }
 ],
 "metadata": {
  "kernelspec": {
   "display_name": "my-rdkit-env",
   "language": "python",
   "name": "my-rdkit-env"
  },
  "language_info": {
   "codemirror_mode": {
    "name": "ipython",
    "version": 3
   },
   "file_extension": ".py",
   "mimetype": "text/x-python",
   "name": "python",
   "nbconvert_exporter": "python",
   "pygments_lexer": "ipython3",
   "version": "3.10.14"
  }
 },
 "nbformat": 4,
 "nbformat_minor": 5
}
