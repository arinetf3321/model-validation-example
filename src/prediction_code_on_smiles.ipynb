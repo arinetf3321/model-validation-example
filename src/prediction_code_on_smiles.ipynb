from rdkit import Chem
import pandas as pd

# Load your model or function for making predictions
def predict_function(smiles):
    # Example function, replace with your own
    return len(smiles)

# Read the input CSV file
df = pd.read_csv('input3.csv')

# Apply the predict function to each row
df['prediction'] = df['standardized_smiles'].apply(predict_function)

# Save the predictions to a new CSV file
df.to_csv('output3.csv', index=False)
