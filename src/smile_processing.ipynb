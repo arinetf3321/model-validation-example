{
 "cells": [
  {
   "cell_type": "code",
   "execution_count": 1,
   "id": "c04ff328-32d5-4f5b-99c0-2e15d316b43c",
   "metadata": {},
   "outputs": [],
   "source": [
    "from rdkit import Chem\n",
    "import pandas as pd\n",
    "import matplotlib.pyplot as plt\n",
    "\n",
    "# Read the input CSV file\n",
    "df = pd.read_csv('input3.csv')\n",
    "\n",
    "# Generate RDKit molecules from the SMILES strings\n",
    "molecules = [Chem.MolFromSmiles(smiles) for smiles in df['standardized_smiles'] if Chem.MolFromSmiles(smiles) is not None]\n",
    "\n",
    "# Calculate the number of atoms in each molecule\n",
    "num_atoms = [mol.GetNumAtoms() for mol in molecules]\n",
    "\n",
    "# Plot the histogram\n",
    "plt.hist(num_atoms, bins=20, color='skyblue', edgecolor='black')\n",
    "plt.xlabel('Number of Atoms')\n",
    "plt.ylabel('Frequency')\n",
    "plt.title('Histogram of Standardized SMILES')\n",
    "plt.show()"
   ]
  },
  {
   "cell_type": "code",
   "execution_count": null,
   "id": "3b533baa-10be-41ba-8ddd-dc2abeca58d5",
   "metadata": {},
   "outputs": [],
   "source": []
  }
 ],
 "metadata": {
  "kernelspec": {
   "display_name": "my-rdkit-env",
   "language": "python",
   "name": "my-rdkit-env"
  },
  "language_info": {
   "codemirror_mode": {
    "name": "ipython",
    "version": 3
   },
   "file_extension": ".py",
   "mimetype": "text/x-python",
   "name": "python",
   "nbconvert_exporter": "python",
   "pygments_lexer": "ipython3",
   "version": "3.10.14"
  }
 },
 "nbformat": 4,
 "nbformat_minor": 5
}
