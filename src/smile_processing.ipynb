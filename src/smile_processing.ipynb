{
 "cells": [
  {
   "cell_type": "code",
   "execution_count": null,
   "id": "14657373-ebda-4cc6-87d8-ef5925267cb5",
   "metadata": {},
   "outputs": [],
   "source": [
    "import pandas as pd\n",
    "from rdkit import Chem\n",
    "from rdkit.Chem import AllChem\n",
    "\n",
    "# Load the CSV file into a DataFrame\n",
    "df = pd.read_csv('your_file.csv')\n",
    "\n",
    "# Convert SMILES strings to molecular fingerprints\n",
    "def smiles_to_fingerprint(smiles):\n",
    "    mol = Chem.MolFromSmiles(smiles)\n",
    "    if mol is not None:\n",
    "        fingerprint = AllChem.GetMorganFingerprintAsBitVect(mol, 2, nBits=1024)\n",
    "        return fingerprint\n",
    "    else:\n",
    "        return None\n",
    "\n",
    "# Apply the function to the 'SMILES' column\n",
    "df['fingerprint'] = df['SMILES'].apply(smiles_to_fingerprint)\n",
    "\n",
    "# Convert the fingerprints to numerical values\n",
    "df['numerical_values'] = df['fingerprint'].apply(list)\n",
    "\n",
    "# Drop the 'fingerprint' column if no longer needed\n",
    "df = df.drop(columns=['fingerprint'])\n",
    "\n",
    "# Save the DataFrame to a new CSV file\n",
    "df.to_csv('output.csv', index=False)\n"
   ]
  }
 ],
 "metadata": {
  "kernelspec": {
   "display_name": "Python 3 (ipykernel)",
   "language": "python",
   "name": "python3"
  },
  "language_info": {
   "codemirror_mode": {
    "name": "ipython",
    "version": 3
   },
   "file_extension": ".py",
   "mimetype": "text/x-python",
   "name": "python",
   "nbconvert_exporter": "python",
   "pygments_lexer": "ipython3",
   "version": "3.9.7"
  }
 },
 "nbformat": 4,
 "nbformat_minor": 5
}
